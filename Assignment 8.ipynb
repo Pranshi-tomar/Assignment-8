{
 "cells": [
  {
   "attachments": {},
   "cell_type": "markdown",
   "metadata": {},
   "source": [
    "Q1. You are writing code for a company. The requirement of the company is that you create a python\n",
    "function that will check whether the password entered by the user is correct or not. The function should\n",
    "take the password as input and return the string “Valid Password” if the entered password follows the\n",
    "below-given password guidelines else it should return “Invalid Password”.\n",
    "Note: 1. The Password should contain at least two uppercase letters and at least two lowercase letters.\n",
    "2. The Password should contain at least a number and three special characters.\n",
    "3. The length of the password should be 10 characters long."
   ]
  },
  {
   "cell_type": "code",
   "execution_count": 36,
   "metadata": {},
   "outputs": [
    {
     "name": "stdout",
     "output_type": "stream",
     "text": [
      "password is valid\n"
     ]
    }
   ],
   "source": [
    "s1=\"Pranshi@123\"\n",
    "u,p,l,d=0,0,0,0 \n",
    "if len(s1)>=10:\n",
    "    for i in s1:\n",
    "        if i==\"@\" or i==\"#\" or i==\"&\":\n",
    "            p+=1\n",
    "            if i.isupper():\n",
    "                u+=1\n",
    "                if i.islower():\n",
    "                    l+=1\n",
    "                    if i.isdigit():\n",
    "                       d+=1\n",
    "if(l>=1,u>=1,p>=1,d>=1):\n",
    "    print(\"password is valid\")\n",
    "else:\n",
    "    print(\"the password is incorrect\")"
   ]
  },
  {
   "attachments": {},
   "cell_type": "markdown",
   "metadata": {},
   "source": [
    "Q2. Solve the below-given questions using at least one of the following:\n",
    "1. Lambda functioJ\n",
    "2. Filter functioJ\n",
    "3. map functioJ\n",
    "4. List ComprehensioI\n",
    "B Check if the string starts with a particular letter\n",
    "B Check if the string is numericY\n",
    "B Sort a list of tuples having fruit names and their quantity. [(\"mango\",99),(\"orange\",80), (\"grapes\", 1000)]\n",
    "B Find the squares of numbers from 1 to 100\n",
    "B Find the cube root of numbers from 1 to 100\n",
    "B Check if a given number is evenY\n",
    "B Filter odd numbers from the given list.\n",
    "[1,2,3,4,5,6,7,8,9,10-]\n",
    "B Sort a list of integers into positive and negative integers lists.\n",
    "[1,2,3,4,5,6,-1,-2,-3,-4,-5,0]"
   ]
  },
  {
   "attachments": {},
   "cell_type": "markdown",
   "metadata": {},
   "source": [
    "B Filter odd numbers from the given list.\n",
    "[1,2,3,4,5,6,7,8,9,10]"
   ]
  },
  {
   "cell_type": "code",
   "execution_count": 15,
   "metadata": {},
   "outputs": [
    {
     "name": "stdout",
     "output_type": "stream",
     "text": [
      "[1, 3, 5, 7, 9]\n"
     ]
    }
   ],
   "source": [
    "l=[1,2,3,4,5,6,7,8,9,10]\n",
    "print(list(filter(lambda x:x%2!=0,l)))"
   ]
  },
  {
   "attachments": {},
   "cell_type": "markdown",
   "metadata": {},
   "source": [
    "B Find the squares of numbers from 1 to 100\n"
   ]
  },
  {
   "cell_type": "code",
   "execution_count": 16,
   "metadata": {},
   "outputs": [
    {
     "data": {
      "text/plain": [
       "[2,\n",
       " 4,\n",
       " 6,\n",
       " 8,\n",
       " 10,\n",
       " 12,\n",
       " 14,\n",
       " 16,\n",
       " 18,\n",
       " 20,\n",
       " 22,\n",
       " 24,\n",
       " 26,\n",
       " 28,\n",
       " 30,\n",
       " 32,\n",
       " 34,\n",
       " 36,\n",
       " 38,\n",
       " 40,\n",
       " 42,\n",
       " 44,\n",
       " 46,\n",
       " 48,\n",
       " 50,\n",
       " 52,\n",
       " 54,\n",
       " 56,\n",
       " 58,\n",
       " 60,\n",
       " 62,\n",
       " 64,\n",
       " 66,\n",
       " 68,\n",
       " 70,\n",
       " 72,\n",
       " 74,\n",
       " 76,\n",
       " 78,\n",
       " 80,\n",
       " 82,\n",
       " 84,\n",
       " 86,\n",
       " 88,\n",
       " 90,\n",
       " 92,\n",
       " 94,\n",
       " 96,\n",
       " 98,\n",
       " 100,\n",
       " 102,\n",
       " 104,\n",
       " 106,\n",
       " 108,\n",
       " 110,\n",
       " 112,\n",
       " 114,\n",
       " 116,\n",
       " 118,\n",
       " 120,\n",
       " 122,\n",
       " 124,\n",
       " 126,\n",
       " 128,\n",
       " 130,\n",
       " 132,\n",
       " 134,\n",
       " 136,\n",
       " 138,\n",
       " 140,\n",
       " 142,\n",
       " 144,\n",
       " 146,\n",
       " 148,\n",
       " 150,\n",
       " 152,\n",
       " 154,\n",
       " 156,\n",
       " 158,\n",
       " 160,\n",
       " 162,\n",
       " 164,\n",
       " 166,\n",
       " 168,\n",
       " 170,\n",
       " 172,\n",
       " 174,\n",
       " 176,\n",
       " 178,\n",
       " 180,\n",
       " 182,\n",
       " 184,\n",
       " 186,\n",
       " 188,\n",
       " 190,\n",
       " 192,\n",
       " 194,\n",
       " 196,\n",
       " 198,\n",
       " 200]"
      ]
     },
     "execution_count": 16,
     "metadata": {},
     "output_type": "execute_result"
    }
   ],
   "source": [
    "l1=list(range(1,101))\n",
    "list(map(lambda x:x*2,l1))"
   ]
  },
  {
   "attachments": {},
   "cell_type": "markdown",
   "metadata": {},
   "source": [
    "B Sort a list of tuples having fruit names and their quantity. [(\"mango\",99),(\"orange\",80), (\"grapes\", 1000)]\n"
   ]
  },
  {
   "cell_type": "code",
   "execution_count": 46,
   "metadata": {},
   "outputs": [
    {
     "name": "stdout",
     "output_type": "stream",
     "text": [
      "a ['grapes', 'mango', 'orange']\n",
      "b [80, 99, 1000]\n"
     ]
    }
   ],
   "source": [
    "l1=[(\"mango\",99),(\"orange\",80), (\"grapes\", 1000)]\n",
    "a,b=zip(*l1)\n",
    "print(\"a\",sorted(a))\n",
    "print(\"b\",sorted(b))"
   ]
  },
  {
   "attachments": {},
   "cell_type": "markdown",
   "metadata": {},
   "source": [
    "B Sort a list of integers into positive and negative integers lists.\n",
    "[1,2,3,4,5,6,-1,-2,-3,-4,-5,0]"
   ]
  },
  {
   "cell_type": "code",
   "execution_count": 39,
   "metadata": {},
   "outputs": [
    {
     "name": "stdout",
     "output_type": "stream",
     "text": [
      "[0, 1, 2, 3, 4, 5, 6]\n",
      "[-5, -4, -3, -2, -1, 0]\n"
     ]
    }
   ],
   "source": [
    "l1=[1,2,3,4,5,6,-1,-2,-3,-4,-5,0]\n",
    "res=[i for i in l1 if i>=0 ]\n",
    "res1=[x for x in l1 if x<=0]\n",
    "print(sorted(res))\n",
    "print(sorted(res1))"
   ]
  },
  {
   "attachments": {},
   "cell_type": "markdown",
   "metadata": {},
   "source": [
    "B Check if the string starts with a particular letter"
   ]
  },
  {
   "cell_type": "code",
   "execution_count": 63,
   "metadata": {},
   "outputs": [
    {
     "data": {
      "text/plain": [
       "[[True], <generator object <genexpr> at 0x00000233BF859A40>]"
      ]
     },
     "execution_count": 63,
     "metadata": {},
     "output_type": "execute_result"
    }
   ],
   "source": [
    "s1=input(\"enter here string\")\n",
    "[[s1.startswith(\"P\")],(i for i in s1)]\n"
   ]
  },
  {
   "attachments": {},
   "cell_type": "markdown",
   "metadata": {},
   "source": [
    "B Check if the string is numeric."
   ]
  },
  {
   "cell_type": "code",
   "execution_count": 20,
   "metadata": {},
   "outputs": [
    {
     "data": {
      "text/plain": [
       "[False, <generator object <genexpr> at 0x0000017E7A077C60>]"
      ]
     },
     "execution_count": 20,
     "metadata": {},
     "output_type": "execute_result"
    }
   ],
   "source": [
    "s=\"23345pranshi\"\n",
    "[s.isnumeric() ,(i for i in s)]\n"
   ]
  },
  {
   "attachments": {},
   "cell_type": "markdown",
   "metadata": {},
   "source": [
    "B Check if a given number is evenY"
   ]
  },
  {
   "cell_type": "code",
   "execution_count": null,
   "metadata": {},
   "outputs": [],
   "source": [
    "a= int(input())\n",
    "res= (lambda :\"even number\" if a%2==0 else \"odd number\")\n",
    "print(res())"
   ]
  },
  {
   "attachments": {},
   "cell_type": "markdown",
   "metadata": {},
   "source": [
    "B Find the cube root of numbers from 1 to 100"
   ]
  },
  {
   "cell_type": "code",
   "execution_count": null,
   "metadata": {},
   "outputs": [
    {
     "name": "stdout",
     "output_type": "stream",
     "text": [
      "[1.0, 1.2599210498948732, 1.4422495703074083, 1.5874010519681994, 1.7099759466766968, 1.8171205928321397, 1.912931182772389, 2.0, 2.080083823051904, 2.154434690031884, 2.2239800905693152, 2.2894284851066637, 2.3513346877207573, 2.4101422641752297, 2.46621207433047, 2.5198420997897464, 2.571281590658235, 2.6207413942088964, 2.668401648721945, 2.7144176165949063, 2.7589241763811203, 2.802039330655387, 2.8438669798515654, 2.8844991406148166, 2.924017738212866, 2.9624960684073702, 3.0, 3.0365889718756622, 3.072316825685847, 3.1072325059538586, 3.1413806523913927, 3.1748021039363987, 3.207534329995826, 3.239611801277483, 3.2710663101885897, 3.3019272488946263, 3.332221851645953, 3.361975406798963, 3.3912114430141664, 3.4199518933533937, 3.4482172403827303, 3.4760266448864496, 3.503398060386724, 3.530348335326063, 3.5568933044900626, 3.583047871015946, 3.6088260801386944, 3.634241185664279, 3.6593057100229713, 3.6840314986403864, 3.708429769266189, 3.7325111568172478, 3.756285754221072, 3.7797631496846193, 3.802952460761391, 3.825862365544778, 3.8485011312768047, 3.8708766406277966, 3.8929964158732604, 3.9148676411688634, 3.9364971831021727, 3.9578916096804053, 3.9790572078963917, 3.9999999999999996, 4.020725758589058, 4.04124002062219, 4.0615481004456795, 4.081655101917348, 4.101565929702347, 4.121285299808556, 4.140817749422853, 4.160167646103808, 4.179339196381232, 4.198336453808407, 4.217163326508746, 4.235823584254893, 4.254320865115005, 4.272658681697917, 4.290840427026207, 4.308869380063767, 4.3267487109222245, 4.344481485768611, 4.362070671454838, 4.379519139887889, 4.396829672158179, 4.414004962442103, 4.431047621693634, 4.4479601811386305, 4.464745095584537, 4.481404746557164, 4.497941445275415, 4.514357435474001, 4.530654896083492, 4.546835943776344, 4.562902635386966, 4.5788569702133275, 4.594700892207039, 4.610436292058446, 4.626065009182741, 4.641588833612778]\n"
     ]
    }
   ],
   "source": [
    "l=list(range(1,101))\n",
    "num=list(map(lambda x:x**(1/3),l))\n",
    "print(num)"
   ]
  }
 ],
 "metadata": {
  "kernelspec": {
   "display_name": "Python 3",
   "language": "python",
   "name": "python3"
  },
  "language_info": {
   "codemirror_mode": {
    "name": "ipython",
    "version": 3
   },
   "file_extension": ".py",
   "mimetype": "text/x-python",
   "name": "python",
   "nbconvert_exporter": "python",
   "pygments_lexer": "ipython3",
   "version": "3.11.2"
  },
  "orig_nbformat": 4
 },
 "nbformat": 4,
 "nbformat_minor": 2
}
